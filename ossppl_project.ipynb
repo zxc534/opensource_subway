{
  "nbformat": 4,
  "nbformat_minor": 0,
  "metadata": {
    "colab": {
      "name": "ossppl_project_template.ipynb",
      "provenance": [],
      "collapsed_sections": [
        "NUD-hySm_uPc"
      ]
    },
    "kernelspec": {
      "name": "python3",
      "display_name": "Python 3"
    }
  },
  "cells": [
    {
      "cell_type": "markdown",
      "metadata": {
        "id": "NUD-hySm_uPc"
      },
      "source": [
        "# **Open Source SW and Python Programming Project: Implementation of Subway Navigation**\n",
        "\n",
        "In this project, you will implement a navigation system for Seoul subway stations, especially **step by step**\n",
        "\n",
        "\n"
      ]
    },
    {
      "cell_type": "markdown",
      "metadata": {
        "id": "uUsnepoeAhVl"
      },
      "source": [
        "# 0. Initialization\n",
        "\n",
        "Read subway station information by reading the file **simplified_subway_info_english.xlsx** or **simplified_subway_info_korean.xlsx**\n",
        "*  The excel file contains subway station information of Seoul subway line 1 ~ 4\n",
        "*  When you execute this sourcecode, you MUST upload these files in your Colab runtime environment\n",
        "*   **MUST NOT** change this code cell"
      ]
    },
    {
      "cell_type": "code",
      "metadata": {
        "id": "qnbOlA6o_mIl"
      },
      "source": [
        "import xlrd\n",
        "\n",
        "# Read data file\n",
        "data = xlrd.open_workbook(\"simplified_subway_info_english.xlsx\")\n",
        "data = data.sheet_by_name('Sheet1')\n",
        "\n",
        "# Store the loaded book object as a string list in subwayStation variable\n",
        "subwayStation = []\n",
        "for line in range(4) :\n",
        "    cur = [x for x in data.col_values(line) if x]    \n",
        "    subwayStation.append(cur[1:])"
      ],
      "execution_count": 2,
      "outputs": []
    },
    {
      "cell_type": "markdown",
      "metadata": {
        "id": "DBXU61Tn_vKS"
      },
      "source": [
        "# 1. Your implementation\n",
        "Let's start the implementation of a subway naviation system by using the loaded subway station information :)\n",
        "\n",
        "*   You can access the subway station information by referring to **subwayStation** variable (list type)"
      ]
    },
    {
      "cell_type": "code",
      "metadata": {
        "id": "7h-scy6AI8Re",
        "outputId": "65ea4cef-4fc9-4034-92d1-800e81edaa7a",
        "colab": {
          "base_uri": "https://localhost:8080/"
        }
      },
      "source": [
        "i = 0\n",
        "\n",
        "mode = 0\n",
        "num = 0\n",
        "print('=====================MENU=====================\\n',\n",
        "      '1. Display subway line information (Line 1 ~ 4)\\n',\n",
        "      '2. Display subway station in\\n',\n",
        "      '3. Exit\\n'\n",
        "      '==============================================\\n')\n",
        "while ((mode<1)or(mode>3)):\n",
        "  mode = int(input('Please choose one of the options (1~3) : '))\n",
        "print('you choosed ',mode)\n",
        "\n",
        "if mode == 1 :\n",
        "  print('\\n□Subway station list□')\n",
        "  while ((num<1)or(num>4)):\n",
        "    num = int(input('Please enter a subway line number (1~4) : '))\n",
        "  print('Line ',num, subwayStation[num])\n",
        "\n",
        "elif mode == 2 :\n",
        "  print('\\n■Search station■')\n",
        "  target = str(input(\"Please enter subway station name : \"))\n",
        "  print(target,' is in Line',end = '')\n",
        "  for i in range(4) :\n",
        "    if target in subwayStation[i] :\n",
        "      print('',i+1,end = ',')\n",
        "elif mode == 3 :\n",
        "  print(\"\\nExit\")\n"
      ],
      "execution_count": 75,
      "outputs": [
        {
          "output_type": "stream",
          "text": [
            "=====================MENU=====================\n",
            " 1. Display subway line information (Line 1 ~ 4)\n",
            " 2. Display subway station in\n",
            " 3. Exit\n",
            "==============================================\n",
            "\n",
            "Please choose one of the options (1~3) : 2\n",
            "you choosed  2\n",
            "\n",
            "■Search station■\n",
            "Please enter subway station name : Seoul Station\n",
            "Seoul Station  is in Line 1, 4,"
          ],
          "name": "stdout"
        }
      ]
    },
    {
      "cell_type": "code",
      "metadata": {
        "id": "fpJ7rKtWf3Y1"
      },
      "source": [
        ""
      ],
      "execution_count": null,
      "outputs": []
    }
  ]
}