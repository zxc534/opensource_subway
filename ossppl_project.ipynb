{
  "nbformat": 4,
  "nbformat_minor": 0,
  "metadata": {
    "colab": {
      "name": "ossppl_project_template.ipynb",
      "provenance": [],
      "collapsed_sections": [
        "NUD-hySm_uPc"
      ]
    },
    "kernelspec": {
      "name": "python3",
      "display_name": "Python 3"
    }
  },
  "cells": [
    {
      "cell_type": "markdown",
      "metadata": {
        "id": "NUD-hySm_uPc"
      },
      "source": [
        "# **Open Source SW and Python Programming Project: Implementation of Subway Navigation**\n",
        "\n",
        "In this project, you will implement a navigation system for Seoul subway stations, especially **step by step**\n",
        "\n",
        "\n"
      ]
    },
    {
      "cell_type": "markdown",
      "metadata": {
        "id": "uUsnepoeAhVl"
      },
      "source": [
        "# 0. Initialization\n",
        "\n",
        "Read subway station information by reading the file **simplified_subway_info_english.xlsx** or **simplified_subway_info_korean.xlsx**\n",
        "*  The excel file contains subway station information of Seoul subway line 1 ~ 4\n",
        "*  When you execute this sourcecode, you MUST upload these files in your Colab runtime environment\n",
        "*   **MUST NOT** change this code cell"
      ]
    },
    {
      "cell_type": "code",
      "metadata": {
        "id": "qnbOlA6o_mIl"
      },
      "source": [
        "import xlrd\n",
        "\n",
        "# Read data file\n",
        "data = xlrd.open_workbook(\"simplified_subway_info_english.xlsx\")\n",
        "data = data.sheet_by_name('Sheet1')\n",
        "\n",
        "# Store the loaded book object as a string list in subwayStation variable\n",
        "subwayStation = []\n",
        "for line in range(4) :\n",
        "    cur = [x for x in data.col_values(line) if x]    \n",
        "    subwayStation.append(cur[1:])"
      ],
      "execution_count": 7,
      "outputs": []
    },
    {
      "cell_type": "markdown",
      "metadata": {
        "id": "DBXU61Tn_vKS"
      },
      "source": [
        "# 1. Your implementation\n",
        "Let's start the implementation of a subway naviation system by using the loaded subway station information :)\n",
        "\n",
        "*   You can access the subway station information by referring to **subwayStation** variable (list type)"
      ]
    },
    {
      "cell_type": "code",
      "metadata": {
        "id": "7h-scy6AI8Re",
        "colab": {
          "base_uri": "https://localhost:8080/"
        },
        "outputId": "2e470faa-3cad-4c52-fa50-16d638f00fbf"
      },
      "source": [
        "i = 0\n",
        "mode = 0\n",
        "\n",
        "station = {'Line1':tuple(subwayStation[0]),'Line2':tuple(subwayStation[1]),'Line3':tuple(subwayStation[2]),'Line4':tuple(subwayStation[3])}\n",
        "\n",
        "#for key in station.keys():\n",
        "#  print(key)\n",
        "\n",
        "#for value in station.values():\n",
        "#  print(value)\n",
        "\n",
        "def showMenu() :\n",
        "  num = 0\n",
        "  print('\\n=====================MENU=====================\\n',\n",
        "      '1. Display subway line information (Line 1 ~ 4)\\n',\n",
        "      '2. Display subway station in\\n',\n",
        "      '3. Find a path between two subway stations\\n',\n",
        "      '4. Exit\\n'\n",
        "      '==============================================\\n')\n",
        "  while ((num<1)or(num>4)):\n",
        "    num = int(input('Please choose one of the options (1~4) : '))\n",
        "  return num\n",
        "  \n",
        "def showLine() :\n",
        "  num = 0\n",
        "  print('\\n□Subway station list□')\n",
        "  while ((num<1)or(num>4)):\n",
        "    num = int(input('Please enter a subway line number (1~4) : '))\n",
        "  print('Line ',num, subwayStation[num])\n",
        "\n",
        "def findStation():\n",
        "  count = 0\n",
        "  print('\\n■Search station■')\n",
        "  target = str(input(\"Please enter subway station name : \"))\n",
        "  print('>>>',target,'is in',end = '')\n",
        "  for i in range(4) :\n",
        "    if target in subwayStation[i] :\n",
        "      if count == 0 :\n",
        "        print(' line',i+1,end = ' ')\n",
        "        count += 1\n",
        "      else :\n",
        "        print('and',i+1)\n",
        "  if count == 1 : \n",
        "    print()\n",
        "  elif count == 0 :\n",
        "    print(' no line')\n",
        "\n",
        "def sameLine(line,depSta, arrSta):\n",
        "  if (station[line].index(depSta)<station[line].index(arrSta)):\n",
        "    i =station[line].index(depSta)\n",
        "    while i<=station[line].index(arrSta):\n",
        "      print(station[line][i],end='/')\n",
        "      i= i + 1\n",
        "  else:\n",
        "    i =station[line].index(depSta)\n",
        "    while i>=station[line].index(arrSta):\n",
        "      print(station[line][i],end='/')\n",
        "      i= i - 1\n",
        "\n",
        "def findPath():\n",
        "  depi='Line0'\n",
        "  arri='Line0'\n",
        "  while 1:\n",
        "    depart = input(\"Enter departure station : \")\n",
        "    arrive = input(\"Enter arrival station : \")\n",
        "    for key in station:\n",
        "      if depart in station[key]:\n",
        "        depi = key\n",
        "      if arrive in station[key]:\n",
        "        arri = key\n",
        "    if (depi == 'Line0')or(arri == 'Line0'):\n",
        "      print(\"Invalid station name...\")\n",
        "    else :\n",
        "      break\n",
        "\n",
        "  print(\"=== Path from\",depart,'to',arrive,'===')\n",
        "  tempi = depi\n",
        "  temps = depart\n",
        "  if (depi==arri): #같은 노선에 있는 경우\n",
        "    sameLine(depi,depart,arrive)\n",
        "  elif (depi<arri): #상행\n",
        "    while 1:\n",
        "      if tempi == arri:\n",
        "        sameLine(tempi,temps,arrive)\n",
        "        break\n",
        "      elif tempi== 'Line1':\n",
        "        sameLine(tempi,temps,'Sindorim')\n",
        "        tempi = 'Line2'\n",
        "        temps = 'Sindorim'\n",
        "        print(\"\\n→Transfer to Line2\")\n",
        "      elif tempi== 'Line2':\n",
        "        sameLine(tempi,temps,'Euljiro 3(sam)-ga')\n",
        "        tempi = 'Line3'\n",
        "        temps = 'Euljiro 3(sam)-ga'\n",
        "        print(\"\\n→Transfer to Line3\")\n",
        "      elif tempi== 'Line3':\n",
        "        sameLine(tempi,temps,'Chungmuro')\n",
        "        tempi = 'Line4'\n",
        "        temps = 'Chungmuro'\n",
        "        print(\"\\n→Transfer to Line4\")\n",
        "  elif (depi>arri): #하행\n",
        "    while 1:\n",
        "      if tempi == arri:\n",
        "        sameLine(tempi,temps,arrive)\n",
        "        break\n",
        "      elif tempi== 'Line2':\n",
        "        sameLine(tempi,temps,'Sindorim')\n",
        "        print(\"\\n→Transfer to Line1\")\n",
        "        tempi = 'Line1'\n",
        "        temps = 'Sindorim'\n",
        "      elif tempi== 'Line3':\n",
        "        sameLine(tempi,temps,'Euljiro 3(sam)-ga')\n",
        "        tempi = 'Line2'\n",
        "        temps = 'Euljiro 3(sam)-ga'\n",
        "        print(\"\\n→Transfer to Line2\")\n",
        "      elif tempi== 'Line4':\n",
        "        sameLine(tempi,temps,'Chungmuro')\n",
        "        tempi = 'Line3'\n",
        "        temps = 'Chungmuro'\n",
        "        print(\"\\n→Transfer to Line3\")\n",
        "\n",
        "while 1 :\n",
        "  mode = showMenu()\n",
        "  if mode == 1 :\n",
        "    showLine()\n",
        "  elif mode == 2 :\n",
        "    findStation()\n",
        "  elif mode == 3 :\n",
        "    findPath()\n",
        "  elif mode == 4 :\n",
        "    print(\"\\nExit Program\")\n",
        "    break\n"
      ],
      "execution_count": 41,
      "outputs": [
        {
          "output_type": "stream",
          "text": [
            "\n",
            "=====================MENU=====================\n",
            " 1. Display subway line information (Line 1 ~ 4)\n",
            " 2. Display subway station in\n",
            " 3. Find a path between two subway stations\n",
            " 4. Exit\n",
            "==============================================\n",
            "\n",
            "Please choose one of the options (1~4) : 4\n",
            "\n",
            "Exit Program\n"
          ],
          "name": "stdout"
        }
      ]
    }
  ]
}